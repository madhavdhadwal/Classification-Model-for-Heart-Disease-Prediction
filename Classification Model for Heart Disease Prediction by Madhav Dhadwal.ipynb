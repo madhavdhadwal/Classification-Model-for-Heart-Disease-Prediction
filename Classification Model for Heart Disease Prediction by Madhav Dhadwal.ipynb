{
 "cells": [
  {
   "cell_type": "code",
   "execution_count": 1,
   "id": "f6c5522e",
   "metadata": {},
   "outputs": [],
   "source": [
    "import warnings                                   #Importing few important python libraries\n",
    "warnings.filterwarnings('ignore')\n",
    "import pandas as pd\n",
    "import numpy as np\n",
    "from numpy import linalg as LA\n",
    "from sklearn.model_selection import train_test_split\n",
    "import math\n",
    "import matplotlib.pyplot as plt\n",
    "import copy\n",
    "import math\n",
    "%matplotlib inline"
   ]
  },
  {
   "cell_type": "code",
   "execution_count": 2,
   "id": "af14294b",
   "metadata": {},
   "outputs": [],
   "source": [
    "df = pd.read_csv('heartdataset.csv')"
   ]
  },
  {
   "cell_type": "code",
   "execution_count": 3,
   "id": "277b89ff",
   "metadata": {
    "scrolled": true
   },
   "outputs": [
    {
     "data": {
      "text/html": [
       "<div>\n",
       "<style scoped>\n",
       "    .dataframe tbody tr th:only-of-type {\n",
       "        vertical-align: middle;\n",
       "    }\n",
       "\n",
       "    .dataframe tbody tr th {\n",
       "        vertical-align: top;\n",
       "    }\n",
       "\n",
       "    .dataframe thead th {\n",
       "        text-align: right;\n",
       "    }\n",
       "</style>\n",
       "<table border=\"1\" class=\"dataframe\">\n",
       "  <thead>\n",
       "    <tr style=\"text-align: right;\">\n",
       "      <th></th>\n",
       "      <th>male</th>\n",
       "      <th>age</th>\n",
       "      <th>education</th>\n",
       "      <th>currentSmoker</th>\n",
       "      <th>cigsPerDay</th>\n",
       "      <th>BPMeds</th>\n",
       "      <th>prevalentStroke</th>\n",
       "      <th>prevalentHyp</th>\n",
       "      <th>diabetes</th>\n",
       "      <th>totChol</th>\n",
       "      <th>sysBP</th>\n",
       "      <th>diaBP</th>\n",
       "      <th>BMI</th>\n",
       "      <th>heartRate</th>\n",
       "      <th>glucose</th>\n",
       "      <th>TenYearCHD</th>\n",
       "    </tr>\n",
       "  </thead>\n",
       "  <tbody>\n",
       "    <tr>\n",
       "      <th>0</th>\n",
       "      <td>1</td>\n",
       "      <td>39</td>\n",
       "      <td>4.0</td>\n",
       "      <td>0</td>\n",
       "      <td>0.0</td>\n",
       "      <td>0.0</td>\n",
       "      <td>0</td>\n",
       "      <td>0</td>\n",
       "      <td>0</td>\n",
       "      <td>195.0</td>\n",
       "      <td>106.0</td>\n",
       "      <td>70.0</td>\n",
       "      <td>26.97</td>\n",
       "      <td>80.0</td>\n",
       "      <td>77.0</td>\n",
       "      <td>0</td>\n",
       "    </tr>\n",
       "    <tr>\n",
       "      <th>1</th>\n",
       "      <td>0</td>\n",
       "      <td>46</td>\n",
       "      <td>2.0</td>\n",
       "      <td>0</td>\n",
       "      <td>0.0</td>\n",
       "      <td>0.0</td>\n",
       "      <td>0</td>\n",
       "      <td>0</td>\n",
       "      <td>0</td>\n",
       "      <td>250.0</td>\n",
       "      <td>121.0</td>\n",
       "      <td>81.0</td>\n",
       "      <td>28.73</td>\n",
       "      <td>95.0</td>\n",
       "      <td>76.0</td>\n",
       "      <td>0</td>\n",
       "    </tr>\n",
       "    <tr>\n",
       "      <th>2</th>\n",
       "      <td>1</td>\n",
       "      <td>48</td>\n",
       "      <td>1.0</td>\n",
       "      <td>1</td>\n",
       "      <td>20.0</td>\n",
       "      <td>0.0</td>\n",
       "      <td>0</td>\n",
       "      <td>0</td>\n",
       "      <td>0</td>\n",
       "      <td>245.0</td>\n",
       "      <td>127.5</td>\n",
       "      <td>80.0</td>\n",
       "      <td>25.34</td>\n",
       "      <td>75.0</td>\n",
       "      <td>70.0</td>\n",
       "      <td>0</td>\n",
       "    </tr>\n",
       "    <tr>\n",
       "      <th>3</th>\n",
       "      <td>0</td>\n",
       "      <td>61</td>\n",
       "      <td>3.0</td>\n",
       "      <td>1</td>\n",
       "      <td>30.0</td>\n",
       "      <td>0.0</td>\n",
       "      <td>0</td>\n",
       "      <td>1</td>\n",
       "      <td>0</td>\n",
       "      <td>225.0</td>\n",
       "      <td>150.0</td>\n",
       "      <td>95.0</td>\n",
       "      <td>28.58</td>\n",
       "      <td>65.0</td>\n",
       "      <td>103.0</td>\n",
       "      <td>1</td>\n",
       "    </tr>\n",
       "    <tr>\n",
       "      <th>4</th>\n",
       "      <td>0</td>\n",
       "      <td>46</td>\n",
       "      <td>3.0</td>\n",
       "      <td>1</td>\n",
       "      <td>23.0</td>\n",
       "      <td>0.0</td>\n",
       "      <td>0</td>\n",
       "      <td>0</td>\n",
       "      <td>0</td>\n",
       "      <td>285.0</td>\n",
       "      <td>130.0</td>\n",
       "      <td>84.0</td>\n",
       "      <td>23.10</td>\n",
       "      <td>85.0</td>\n",
       "      <td>85.0</td>\n",
       "      <td>0</td>\n",
       "    </tr>\n",
       "  </tbody>\n",
       "</table>\n",
       "</div>"
      ],
      "text/plain": [
       "   male  age  education  currentSmoker  cigsPerDay  BPMeds  prevalentStroke  \\\n",
       "0     1   39        4.0              0         0.0     0.0                0   \n",
       "1     0   46        2.0              0         0.0     0.0                0   \n",
       "2     1   48        1.0              1        20.0     0.0                0   \n",
       "3     0   61        3.0              1        30.0     0.0                0   \n",
       "4     0   46        3.0              1        23.0     0.0                0   \n",
       "\n",
       "   prevalentHyp  diabetes  totChol  sysBP  diaBP    BMI  heartRate  glucose  \\\n",
       "0             0         0    195.0  106.0   70.0  26.97       80.0     77.0   \n",
       "1             0         0    250.0  121.0   81.0  28.73       95.0     76.0   \n",
       "2             0         0    245.0  127.5   80.0  25.34       75.0     70.0   \n",
       "3             1         0    225.0  150.0   95.0  28.58       65.0    103.0   \n",
       "4             0         0    285.0  130.0   84.0  23.10       85.0     85.0   \n",
       "\n",
       "   TenYearCHD  \n",
       "0           0  \n",
       "1           0  \n",
       "2           0  \n",
       "3           1  \n",
       "4           0  "
      ]
     },
     "execution_count": 3,
     "metadata": {},
     "output_type": "execute_result"
    }
   ],
   "source": [
    "df.head()"
   ]
  },
  {
   "cell_type": "code",
   "execution_count": 4,
   "id": "29d55342",
   "metadata": {},
   "outputs": [
    {
     "data": {
      "text/plain": [
       "(4238, 16)"
      ]
     },
     "execution_count": 4,
     "metadata": {},
     "output_type": "execute_result"
    }
   ],
   "source": [
    "df.shape"
   ]
  },
  {
   "cell_type": "code",
   "execution_count": 5,
   "id": "ee1a7015",
   "metadata": {},
   "outputs": [
    {
     "data": {
      "text/plain": [
       "male                 0\n",
       "age                  0\n",
       "education          105\n",
       "currentSmoker        0\n",
       "cigsPerDay          29\n",
       "BPMeds              53\n",
       "prevalentStroke      0\n",
       "prevalentHyp         0\n",
       "diabetes             0\n",
       "totChol             50\n",
       "sysBP                0\n",
       "diaBP                0\n",
       "BMI                 19\n",
       "heartRate            1\n",
       "glucose            388\n",
       "TenYearCHD           0\n",
       "dtype: int64"
      ]
     },
     "execution_count": 5,
     "metadata": {},
     "output_type": "execute_result"
    }
   ],
   "source": [
    "df.isnull().sum()                    "
   ]
  },
  {
   "cell_type": "code",
   "execution_count": 6,
   "id": "7bb70ed6",
   "metadata": {},
   "outputs": [],
   "source": [
    "#managing the null values\n",
    "mean_value_glucose = df['glucose'].mean()\n",
    "df['glucose'].fillna(value=mean_value_glucose, inplace=True)\n",
    "df['cigsPerDay'].fillna(value=0.0, inplace=True)\n",
    "np.random.seed(3)\n",
    "df['education'].fillna(value=np.random.randint(1,5), inplace=True)\n",
    "mean_value_chol = df['totChol'].mean()\n",
    "df['totChol'].fillna(value=mean_value_chol, inplace=True)\n",
    "df['BPMeds'].fillna(value=np.random.randint(0,2), inplace=True)\n",
    "df['BMI'].fillna(value=np.random.randint(0,2), inplace=True)\n",
    "mean_value_rate = df['heartRate'].mean()\n",
    "df['heartRate'].fillna(value=mean_value_rate, inplace=True)"
   ]
  },
  {
   "cell_type": "code",
   "execution_count": 7,
   "id": "5f0a43f7",
   "metadata": {},
   "outputs": [],
   "source": [
    "#TenYearCHD means 10-year risk of future coronary heart disease\n",
    "#TenYearCHD is our target from the training data\n",
    "y = df['TenYearCHD']\n",
    "X = df.drop('TenYearCHD', axis = 1)\n",
    "X = X.to_numpy()\n",
    "y = y.to_numpy()"
   ]
  },
  {
   "cell_type": "code",
   "execution_count": 8,
   "id": "1d0586ca",
   "metadata": {},
   "outputs": [],
   "source": [
    "def scale_features(X):\n",
    "    min_vec = X.min(axis = 0)\n",
    "    max_vec = X.max(axis = 0)\n",
    "    X = (X - min_vec) / (max_vec - min_vec)\n",
    "    return X, min_vec, max_vec"
   ]
  },
  {
   "cell_type": "code",
   "execution_count": 9,
   "id": "b4a6fd2b",
   "metadata": {},
   "outputs": [
    {
     "name": "stdout",
     "output_type": "stream",
     "text": [
      "X_train.shape (3178, 15) y_train.shape (3178,)\n",
      "X_test.shape (1060, 15) y_test.shape (1060,)\n"
     ]
    }
   ],
   "source": [
    "X_train, X_test, y_train, y_test = train_test_split(X, y, test_size=0.25, random_state=1)\n",
    "print(\"X_train.shape\", X_train.shape, \"y_train.shape\", y_train.shape)\n",
    "print(\"X_test.shape\", X_test.shape, \"y_test.shape\", y_test.shape)"
   ]
  },
  {
   "cell_type": "code",
   "execution_count": 10,
   "id": "d0ee848c",
   "metadata": {},
   "outputs": [
    {
     "name": "stdout",
     "output_type": "stream",
     "text": [
      "[[1.         0.75675676 0.         ... 0.65133929 0.16161616 0.07344633]\n",
      " [0.         0.35135135 0.66666667 ... 0.49330357 0.41414141 0.12711864]\n",
      " [1.         0.35135135 0.         ... 0.72522321 0.23232323 0.11016949]\n",
      " ...\n",
      " [1.         0.13513514 0.33333333 ... 0.66629464 0.51515152 0.11855015]\n",
      " [0.         0.59459459 0.33333333 ... 0.4921875  0.41414141 0.07627119]\n",
      " [0.         0.08108108 0.         ... 0.48058036 0.29292929 0.09887006]]\n"
     ]
    }
   ],
   "source": [
    "X_train, min_vec, max_vec = scale_features(X_train)\n",
    "print(X_train)"
   ]
  },
  {
   "cell_type": "code",
   "execution_count": 11,
   "id": "695a2a93",
   "metadata": {},
   "outputs": [],
   "source": [
    "def sigmoid(z):\n",
    "    g = 1/(1+np.exp(-z))\n",
    "    return g"
   ]
  },
  {
   "cell_type": "code",
   "execution_count": 12,
   "id": "c5082375",
   "metadata": {},
   "outputs": [
    {
     "data": {
      "text/plain": [
       "1.1655882597374843"
      ]
     },
     "execution_count": 12,
     "metadata": {},
     "output_type": "execute_result"
    }
   ],
   "source": [
    "def compute_cost(X, y, w, b, lambda_= 1):\n",
    "    m, n = X.shape\n",
    "    cost = 0\n",
    "    for i in range(m):\n",
    "        z = np.dot(X[i],w) + b\n",
    "        f_wb = sigmoid(z)\n",
    "        cost += -y[i]*np.log(f_wb) - (1-y[i])*np.log(1-f_wb)\n",
    "    total_cost = cost/m\n",
    "    return total_cost\n",
    "np.random.seed(1)\n",
    "compute_cost(X_train, y_train, 0.01 * np.random.rand(15), 1)"
   ]
  },
  {
   "cell_type": "code",
   "execution_count": 13,
   "id": "50f81102",
   "metadata": {},
   "outputs": [
    {
     "data": {
      "text/plain": [
       "(0.5771821352171572,\n",
       " array([0.22677486, 0.24173117, 0.19894651, 0.28046803, 0.06956737,\n",
       "        0.01102355, 0.00188616, 0.15066773, 0.00767253, 0.14903905,\n",
       "        0.16088883, 0.20410731, 0.31590787, 0.18553692, 0.0649162 ]))"
      ]
     },
     "execution_count": 13,
     "metadata": {},
     "output_type": "execute_result"
    }
   ],
   "source": [
    "def compute_gradient(X, y, w, b, lambda_=None):\n",
    "    m, n = X.shape\n",
    "    dj_dw = np.zeros(w.shape)\n",
    "    dj_db = 0.\n",
    "    for i in range(m):\n",
    "        f_wb_i = sigmoid(np.dot(X[i],w) + b)          \n",
    "        err_i  = f_wb_i  - y[i]                       \n",
    "        for j in range(n):\n",
    "            dj_dw[j] = dj_dw[j] + err_i * X[i,j]      \n",
    "        dj_db = dj_db + err_i\n",
    "    dj_dw = dj_dw/m                                   \n",
    "    dj_db = dj_db/m                                       \n",
    "    return dj_db, dj_dw\n",
    "compute_gradient(X_train, y_train, 0.01 * np.random.rand(15), 1)\n",
    "    "
   ]
  },
  {
   "cell_type": "code",
   "execution_count": 14,
   "id": "b7842814",
   "metadata": {},
   "outputs": [],
   "source": [
    "def gradient_descent(X, y, w_in, b_in, alpha, num_iters, cost_func, gradient_func, lambda_) :   \n",
    "         \n",
    "    for i in range(num_iters) :\n",
    "        \n",
    "        dj_db, dj_dw = gradient_func(X, y, w_in, b_in, lambda_)\n",
    "        w_in = w_in - alpha * dj_dw\n",
    "        b_in = b_in - alpha * dj_db\n",
    "        \n",
    "#         For 10 iterations equally spaced of total iters, print cost.\n",
    "        if i % math.ceil(num_iters / 10) == 0 or i == (num_iters - 1) :\n",
    "            print(f\"Iteration {i : 4}: Cost {cost_func(X, y, w_in, b_in) : 8.2f}\")\n",
    "            \n",
    "    return w_in, b_in   "
   ]
  },
  {
   "cell_type": "code",
   "execution_count": 15,
   "id": "de180f93",
   "metadata": {},
   "outputs": [
    {
     "name": "stdout",
     "output_type": "stream",
     "text": [
      "[-0.00082978  0.00220324 -0.00499886 -0.00197667 -0.00353244 -0.00407661\n",
      " -0.0031374  -0.00154439 -0.00103233  0.00038817 -0.00080805  0.0018522\n",
      " -0.00295548  0.00378117 -0.00472612]\n",
      "Iteration    0: Cost     0.44\n",
      "Iteration  100: Cost     0.40\n",
      "Iteration  200: Cost     0.40\n",
      "Iteration  300: Cost     0.39\n",
      "Iteration  400: Cost     0.39\n",
      "Iteration  500: Cost     0.39\n",
      "Iteration  600: Cost     0.39\n",
      "Iteration  700: Cost     0.39\n",
      "Iteration  800: Cost     0.39\n",
      "Iteration  900: Cost     0.39\n",
      "Iteration  999: Cost     0.39\n"
     ]
    }
   ],
   "source": [
    "#To verify that gradient descent is working properly, it would be great if we can see the value of the cost function decreasing with each step of descent.\n",
    "#Running the gradient descent to learn the parameters for our dataset\n",
    "np.random.seed(1)\n",
    "initial_w = 0.01* (np.random.rand(15) - 0.5)\n",
    "print(initial_w)\n",
    "initial_b = -2\n",
    "num_iters = 1000\n",
    "alpha = 0.5\n",
    "lambda_ = 0\n",
    "w, b = gradient_descent(X_train, y_train, initial_w, initial_b, alpha, num_iters,compute_cost, compute_gradient, lambda_)"
   ]
  },
  {
   "cell_type": "code",
   "execution_count": 16,
   "id": "f14c81e3",
   "metadata": {},
   "outputs": [
    {
     "data": {
      "text/plain": [
       "0.3877606709797132"
      ]
     },
     "execution_count": 16,
     "metadata": {},
     "output_type": "execute_result"
    }
   ],
   "source": [
    "compute_cost(X_train, y_train, w, b)"
   ]
  },
  {
   "cell_type": "code",
   "execution_count": 17,
   "id": "851ec0f9",
   "metadata": {},
   "outputs": [
    {
     "name": "stdout",
     "output_type": "stream",
     "text": [
      "[[1.         0.54054054 0.         ... 0.51941964 0.31313131 0.0960452 ]\n",
      " [0.         0.2972973  0.         ... 0.49308036 0.26262626 0.09887006]\n",
      " [0.         0.2972973  1.         ... 0.36785714 0.31313131 0.0480226 ]\n",
      " ...\n",
      " [1.         0.94594595 0.         ... 0.63705357 0.41414141 0.1299435 ]\n",
      " [0.         0.75675676 0.33333333 ... 0.         0.36363636 0.11855015]\n",
      " [0.         0.54054054 0.         ... 0.5171875  0.12121212 0.07909605]]\n"
     ]
    }
   ],
   "source": [
    "#scaling test data using normalised features\n",
    "X_test = (X_test - min_vec) / (max_vec - min_vec)\n",
    "print(X_test)"
   ]
  },
  {
   "cell_type": "code",
   "execution_count": 18,
   "id": "7a169b4c",
   "metadata": {},
   "outputs": [
    {
     "data": {
      "text/plain": [
       "0.3636064072205817"
      ]
     },
     "execution_count": 18,
     "metadata": {},
     "output_type": "execute_result"
    }
   ],
   "source": [
    "compute_cost(X_test, y_test, w, b)"
   ]
  },
  {
   "cell_type": "code",
   "execution_count": 19,
   "id": "63fe70b4",
   "metadata": {},
   "outputs": [],
   "source": [
    "def predict(X, w, b) :\n",
    "    m, n = X.shape\n",
    "    p = np.zeros(m)    \n",
    "    for i in range(m) :\n",
    "        f_wb = sigmoid(np.dot(X[i], w) + b)\n",
    "        p[i] = 1 if f_wb > 0.38 else 0\n",
    "    return p"
   ]
  },
  {
   "cell_type": "code",
   "execution_count": 20,
   "id": "5451af00",
   "metadata": {},
   "outputs": [
    {
     "name": "stdout",
     "output_type": "stream",
     "text": [
      "Train Accuracy: 83.668974\n",
      "Test Accuracy: 85.094340\n"
     ]
    }
   ],
   "source": [
    "p = predict(X_train, w,b)\n",
    "print('Train Accuracy: %f'%(np.mean(p == y_train) * 100))\n",
    "p = predict(X_test, w,b)\n",
    "print('Test Accuracy: %f'%(np.mean(p == y_test) * 100))"
   ]
  },
  {
   "cell_type": "code",
   "execution_count": 21,
   "id": "fe1540fa",
   "metadata": {},
   "outputs": [],
   "source": [
    "from sklearn.preprocessing import StandardScaler"
   ]
  },
  {
   "cell_type": "code",
   "execution_count": 22,
   "id": "124616af",
   "metadata": {},
   "outputs": [
    {
     "name": "stdout",
     "output_type": "stream",
     "text": [
      "Prediction: 1\n"
     ]
    }
   ],
   "source": [
    "patient_data = np.array([[1,51,4.0,1,5.0,3.0,0,0,1,400.0,106.0,70.0,26.97,80.0,77.0]])\n",
    "# assume X_train, y_train, X_test, y_test are your training and test data, and w and b are your trained model parameters\n",
    "\n",
    "# make a prediction for the patient using your trained model\n",
    "prediction = predict(patient_data, w, b)\n",
    "print('Prediction: %d'%(prediction))"
   ]
  }
 ],
 "metadata": {
  "kernelspec": {
   "display_name": "Python 3 (ipykernel)",
   "language": "python",
   "name": "python3"
  },
  "language_info": {
   "codemirror_mode": {
    "name": "ipython",
    "version": 3
   },
   "file_extension": ".py",
   "mimetype": "text/x-python",
   "name": "python",
   "nbconvert_exporter": "python",
   "pygments_lexer": "ipython3",
   "version": "3.9.7"
  }
 },
 "nbformat": 4,
 "nbformat_minor": 5
}
